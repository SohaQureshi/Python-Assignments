{
 "cells": [
  {
   "cell_type": "code",
   "execution_count": 1,
   "metadata": {},
   "outputs": [
    {
     "name": "stdout",
     "output_type": "stream",
     "text": [
      "Twinkle, twinkle, little star,\n",
      "\tHow I wonder what you are!\n",
      "\t\tUp above the world so high,\n",
      "\t\tLike a diamond in the sky,\n",
      "Twinkle, twinkle, little star,\n",
      "\tHow I wonder what you are! \n"
     ]
    }
   ],
   "source": [
    "# print a poem in specific format.\n",
    "\n",
    "print(\"Twinkle, twinkle, little star,\"\n",
    "      \"\\n\\tHow I wonder what you are!\"\n",
    "      \"\\n\\t\\tUp above the world so high,\"\n",
    "      \"\\n\\t\\tLike a diamond in the sky,\"\n",
    "      \"\\nTwinkle, twinkle, little star,\"\n",
    "      \"\\n\\tHow I wonder what you are! \")"
   ]
  },
  {
   "cell_type": "code",
   "execution_count": 2,
   "metadata": {},
   "outputs": [
    {
     "name": "stdout",
     "output_type": "stream",
     "text": [
      "Current date and time :\n",
      "19-10-31 02:25:31\n"
     ]
    }
   ],
   "source": [
    "# display the current date and time.\n",
    "\n",
    "import datetime\n",
    "now=datetime.datetime.now()\n",
    "print(\"Current date and time :\")\n",
    "print(now.strftime(\"%y-%m-%d %H:%M:%S\") )"
   ]
  },
  {
   "cell_type": "code",
   "execution_count": 3,
   "metadata": {},
   "outputs": [
    {
     "name": "stdout",
     "output_type": "stream",
     "text": [
      "input the radius of a circle :2.2\n",
      "The area of the circle with radius 2.2 is: 15.205308443374602\n"
     ]
    }
   ],
   "source": [
    "# get radius of a circle from the user and compute the area.\n",
    "\n",
    "from math import pi\n",
    "r=float(input(\"input the radius of a circle :\"))\n",
    "print(\"The area of the circle with radius \"+ str(r) +\" is: \" +str(pi* r**2))"
   ]
  },
  {
   "cell_type": "code",
   "execution_count": 4,
   "metadata": {},
   "outputs": [
    {
     "name": "stdout",
     "output_type": "stream",
     "text": [
      "input your First Name :soha\n",
      "input your Last Name :qureshi\n",
      "Hello qureshi soha\n"
     ]
    }
   ],
   "source": [
    "# print first and last name in reverse order with a space btw them.\n",
    "\n",
    "fname=(input(\"input your First Name :\"))\n",
    "lname=(input(\"input your Last Name :\"))\n",
    "print (\"Hello \"+ lname + \" \" + fname)"
   ]
  },
  {
   "cell_type": "code",
   "execution_count": 5,
   "metadata": {},
   "outputs": [
    {
     "name": "stdout",
     "output_type": "stream",
     "text": [
      "The sum of 2.5 and 3.5 is 6.0\n"
     ]
    }
   ],
   "source": [
    "# addition of two numbers.\n",
    "\n",
    "num1=2.5\n",
    "num2=3.5\n",
    "sum=float(num1) + float(num2)\n",
    "print(\"The sum of {0} and {1} is {2}\".format(num1, num2, sum))"
   ]
  },
  {
   "cell_type": "code",
   "execution_count": 1,
   "metadata": {},
   "outputs": [
    {
     "name": "stdout",
     "output_type": "stream",
     "text": [
      "3.7.4\n"
     ]
    }
   ],
   "source": [
    "# to get the python version.\n",
    "\n",
    "import platform\n",
    "print(platform.python_version())"
   ]
  },
  {
   "cell_type": "code",
   "execution_count": null,
   "metadata": {},
   "outputs": [],
   "source": []
  }
 ],
 "metadata": {
  "kernelspec": {
   "display_name": "Python 3",
   "language": "python",
   "name": "python3"
  },
  "language_info": {
   "codemirror_mode": {
    "name": "ipython",
    "version": 3
   },
   "file_extension": ".py",
   "mimetype": "text/x-python",
   "name": "python",
   "nbconvert_exporter": "python",
   "pygments_lexer": "ipython3",
   "version": "3.7.4"
  }
 },
 "nbformat": 4,
 "nbformat_minor": 2
}
