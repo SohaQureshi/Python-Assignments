{
 "cells": [
  {
   "cell_type": "code",
   "execution_count": 1,
   "metadata": {},
   "outputs": [
    {
     "name": "stdout",
     "output_type": "stream",
     "text": [
      "Enter marks of 1st subject : 90\n",
      "Enter marks of 2nd subject :80\n",
      "Enter marks of 3rd subject :98\n",
      "Enter marks of 4th subject :89\n",
      "Enter marks of 5th subject :78\n",
      "Grade A\n"
     ]
    }
   ],
   "source": [
    "# takes 5 inputs from user for different subjects marks, total it and generate mark sheet using grades....\n",
    "\n",
    "sub1=int(input(\"Enter marks of 1st subject : \"))\n",
    "sub2=int(input(\"Enter marks of 2nd subject :\"))\n",
    "sub3=int(input(\"Enter marks of 3rd subject :\"))\n",
    "sub4=int(input(\"Enter marks of 4th subject :\"))\n",
    "sub5=int(input(\"Enter marks of 5th subject :\"))\n",
    "totalmarks=(sub1+sub2+sub3+sub4+sub5)\n",
    "avg=(sub1+sub2+sub3+sub4+sub5)/5\n",
    "if (avg >= 90):\n",
    "    print(\"Grade A1\")\n",
    "elif (avg >=80):\n",
    "    print(\"Grade A\")\n",
    "elif (avg >=70):\n",
    "    print(\"Grade B\")\n",
    "elif (avg >=60):\n",
    "    print(\"Grade C\")\n",
    "else:\n",
    "    print(\"Grade F\")"
   ]
  },
  {
   "cell_type": "code",
   "execution_count": 2,
   "metadata": {},
   "outputs": [
    {
     "name": "stdout",
     "output_type": "stream",
     "text": [
      "34\n",
      "Even\n"
     ]
    }
   ],
   "source": [
    "# identify the number is Even or Odd....\n",
    "\n",
    "a=int(input())\n",
    "if a % 2 == 0:\n",
    "    print(\"Even\")\n",
    "else:\n",
    "    print(\"Odd\")"
   ]
  },
  {
   "cell_type": "code",
   "execution_count": 3,
   "metadata": {},
   "outputs": [
    {
     "name": "stdout",
     "output_type": "stream",
     "text": [
      "The length of list is:  12\n"
     ]
    }
   ],
   "source": [
    "# print the length of the list.....\n",
    "\n",
    "a= len([1,2,3,4,5,6,7,8,8,6,8,9])\n",
    "print(\"The length of list is: \", a)"
   ]
  },
  {
   "cell_type": "code",
   "execution_count": 4,
   "metadata": {},
   "outputs": [
    {
     "name": "stdout",
     "output_type": "stream",
     "text": [
      "36\n"
     ]
    }
   ],
   "source": [
    "# sum all the numeric items in a list....\n",
    "numbers = [1,2,3,5,4,6,7,8]\n",
    "numbersSum = sum(numbers)\n",
    "print(numbersSum)"
   ]
  },
  {
   "cell_type": "code",
   "execution_count": 5,
   "metadata": {},
   "outputs": [
    {
     "name": "stdout",
     "output_type": "stream",
     "text": [
      "Largest number is: 50\n"
     ]
    }
   ],
   "source": [
    "# find largest number in the list...\n",
    "\n",
    "a=[10,20,30,40,50]\n",
    "a.sort()\n",
    "print(\"Largest number is:\", a[-1])\n"
   ]
  },
  {
   "cell_type": "code",
   "execution_count": 6,
   "metadata": {},
   "outputs": [
    {
     "name": "stdout",
     "output_type": "stream",
     "text": [
      "[1]\n",
      "[3]\n"
     ]
    }
   ],
   "source": [
    "# prints out all the elements of list that are less than 5....\n",
    "a=[1,3,5,7,9,11,13,15,17,18]\n",
    "for elements in a :\n",
    " if elements < 5 :\n",
    "    print([elements])\n"
   ]
  },
  {
   "cell_type": "code",
   "execution_count": null,
   "metadata": {},
   "outputs": [],
   "source": []
  }
 ],
 "metadata": {
  "kernelspec": {
   "display_name": "Python 3",
   "language": "python",
   "name": "python3"
  },
  "language_info": {
   "codemirror_mode": {
    "name": "ipython",
    "version": 3
   },
   "file_extension": ".py",
   "mimetype": "text/x-python",
   "name": "python",
   "nbconvert_exporter": "python",
   "pygments_lexer": "ipython3",
   "version": "3.7.4"
  }
 },
 "nbformat": 4,
 "nbformat_minor": 2
}
