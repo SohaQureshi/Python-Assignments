{
 "cells": [
  {
   "cell_type": "code",
   "execution_count": 1,
   "metadata": {},
   "outputs": [
    {
     "name": "stdout",
     "output_type": "stream",
     "text": [
      "Enter First Number:3\n",
      "Enter Second Number:4\n",
      "Which Operation to perform\n",
      "Enter any char for specific operation +,-,*,/,**: *\n",
      "3 * 4 : 12\n",
      "IF AGAIN RUN SO ENTER 0 OTHERWISE ENTER OTHER NUMBER:9\n"
     ]
    }
   ],
   "source": [
    "# to make calculator with addition, subtraction, multiplication, division and power:\n",
    "\n",
    "\n",
    "result = 0\n",
    "i=0\n",
    "while i==0:\n",
    "\n",
    "    num1 = int(input(\"Enter First Number:\"))\n",
    "    num2 = int(input(\"Enter Second Number:\"))\n",
    "    print(\"Which Operation to perform\")\n",
    "    ch = input(\"Enter any char for specific operation +,-,*,/,**: \")\n",
    "    if ch == '+' :\n",
    "        result = num1 + num2\n",
    "    elif ch == '-' :\n",
    "        result = num1 - num2\n",
    "    elif ch == '*' :\n",
    "        result = num1 * num2\n",
    "    elif ch == '/' :\n",
    "        result = num1 / num2\n",
    "    elif ch == '**' :\n",
    "        result = num1 ** num2\n",
    "    else:\n",
    "        print(\"Input Character is not recognized ! \")\n",
    "    print(num1, ch, num2, \":\", result)\n",
    "    i=int(input(\"IF AGAIN RUN SO ENTER 0 OTHERWISE ENTER OTHER NUMBER:\"))\n"
   ]
  },
  {
   "cell_type": "code",
   "execution_count": 2,
   "metadata": {},
   "outputs": [
    {
     "name": "stdout",
     "output_type": "stream",
     "text": [
      "89 is a numeric value in list\n",
      "2 is a numeric value in list\n",
      "0 is a numeric value in list\n",
      "15.8 is a numeric value in list\n"
     ]
    }
   ],
   "source": [
    "# program to check if t here is any numeric value in list using for loop...\n",
    "\n",
    "list1 = [\"Soha\",\"Anwar\",89,2,0,True,15.8,\"x\",\"b\"]\n",
    "for x in list1:\n",
    "    if type(x) == int:\n",
    "        print(x, \"is a numeric value in list\")\n",
    "    elif type(x) == float:\n",
    "        print(x, \"is a numeric value in list\")"
   ]
  },
  {
   "cell_type": "code",
   "execution_count": 3,
   "metadata": {},
   "outputs": [
    {
     "name": "stdout",
     "output_type": "stream",
     "text": [
      "Enter key : 7\n",
      "Enter value : 8\n",
      "{'7', '8'}\n"
     ]
    }
   ],
   "source": [
    "# python script to add a key to a dictionary...\n",
    "\n",
    "dic = { }\n",
    "keyinput = input(\"Enter key : \")\n",
    "valueinput = input(\"Enter value : \")\n",
    "dic = {keyinput , valueinput}\n",
    "print(dic)"
   ]
  },
  {
   "cell_type": "code",
   "execution_count": 4,
   "metadata": {},
   "outputs": [
    {
     "name": "stdout",
     "output_type": "stream",
     "text": [
      "sum of all numeric items in a dictionary is :  141\n"
     ]
    }
   ],
   "source": [
    "# to summ all the numeric items in a dictionary...\n",
    "\n",
    "dic = {\"num1\" : 30,\"num2\" : 80,\"string\" : \"Name\",\"char\" :\"a\",\"num3\" : 15,\"num4\" : 16,}\n",
    "sum = 0\n",
    "for i in dic.values():\n",
    "    if type(i) == int:\n",
    "        sum +=i\n",
    "print(\"sum of all numeric items in a dictionary is : \" ,sum)"
   ]
  },
  {
   "cell_type": "code",
   "execution_count": 5,
   "metadata": {},
   "outputs": [
    {
     "name": "stdout",
     "output_type": "stream",
     "text": [
      "Repeated item in a list is :  [2, 3, 4, 5, 7, 8]\n"
     ]
    }
   ],
   "source": [
    "# to identify duplicate values from list...\n",
    "\n",
    "arr = [1,2,3,4,5,5,6,7,8,5,3,7,8,9,2,4]\n",
    "list_range = len(arr)\n",
    "repeated = []\n",
    "for i in range (list_range):\n",
    "    a=i + 1\n",
    "    for b in range (a,list_range):\n",
    "        if arr[i] == arr[b] and arr[i] not in repeated:\n",
    "            repeated.append(arr[i])\n",
    "print(\"Repeated item in a list is : \", repeated)\n"
   ]
  },
  {
   "cell_type": "code",
   "execution_count": 6,
   "metadata": {},
   "outputs": [
    {
     "name": "stdout",
     "output_type": "stream",
     "text": [
      "Enter key Name check if exist or not :num1\n",
      "given key exist\n"
     ]
    }
   ],
   "source": [
    "# python script to check if a given ker already exists in a dictionary...\n",
    "\n",
    "dic = {\"num1\" : 12, \"num2\" : 7 ,\"string\" : \"Soha\" ,\"char\" : \"a\", \"num3\" :6}\n",
    "check_key = input(\"Enter key Name check if exist or not :\")\n",
    "flag = False\n",
    "for i in dic.keys():\n",
    "    if i == check_key:\n",
    "        flag = True\n",
    "        break\n",
    "if flag:\n",
    "        print(\"given key exist\" )\n",
    "else:\n",
    "        print(\"given key does not exist \")\n"
   ]
  },
  {
   "cell_type": "code",
   "execution_count": null,
   "metadata": {},
   "outputs": [],
   "source": []
  }
 ],
 "metadata": {
  "kernelspec": {
   "display_name": "Python 3",
   "language": "python",
   "name": "python3"
  },
  "language_info": {
   "codemirror_mode": {
    "name": "ipython",
    "version": 3
   },
   "file_extension": ".py",
   "mimetype": "text/x-python",
   "name": "python",
   "nbconvert_exporter": "python",
   "pygments_lexer": "ipython3",
   "version": "3.7.4"
  }
 },
 "nbformat": 4,
 "nbformat_minor": 2
}
